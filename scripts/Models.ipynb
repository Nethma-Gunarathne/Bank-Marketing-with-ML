{
 "cells": [
  {
   "cell_type": "code",
   "execution_count": 27,
   "metadata": {},
   "outputs": [],
   "source": [
    "import pandas as pd\n",
    "import numpy as np\n",
    "import matplotlib.pyplot as plt\n",
    "import seaborn as sns\n",
    "from sklearn.preprocessing import StandardScaler, LabelEncoder\n",
    "from sklearn.model_selection import train_test_split\n",
    "from imblearn.over_sampling import SMOTE\n",
    "from collections import Counter\n",
    "from tensorflow.keras.models import Sequential\n",
    "from tensorflow.keras.layers import Dense, Dropout\n",
    "from sklearn.metrics import classification_report, confusion_matrix"
   ]
  },
  {
   "cell_type": "markdown",
   "metadata": {
    "vscode": {
     "languageId": "plaintext"
    }
   },
   "source": [
    "##### Data Splitting"
   ]
  },
  {
   "cell_type": "code",
   "execution_count": 28,
   "metadata": {},
   "outputs": [
    {
     "name": "stdout",
     "output_type": "stream",
     "text": [
      "Shape of the cleaned data: (32124, 34)\n"
     ]
    }
   ],
   "source": [
    "# Load the cleaned data from the CSV file and print its shape\n",
    "cleaned_data = pd.read_csv('../data/cleaned-data.csv')\n",
    "print(f\"Shape of the cleaned data: {cleaned_data.shape}\")"
   ]
  },
  {
   "cell_type": "code",
   "execution_count": 29,
   "metadata": {},
   "outputs": [],
   "source": [
    "# Split the data into features (X) and target (y)\n",
    "X = cleaned_data.drop(columns=['y'])  # Features\n",
    "y = cleaned_data['y']  # Target\n",
    "\n",
    "# Split the dataset into training and test sets\n",
    "X_train, X_test, y_train, y_test = train_test_split(X, y, test_size=0.2, random_state=42)\n"
   ]
  },
  {
   "cell_type": "markdown",
   "metadata": {},
   "source": [
    "#### Neural Network"
   ]
  },
  {
   "cell_type": "markdown",
   "metadata": {},
   "source": [
    "##### Step 1: Apply Correlation Matrix and Remove Correlated Features"
   ]
  },
  {
   "cell_type": "code",
   "execution_count": 30,
   "metadata": {},
   "outputs": [
    {
     "name": "stdout",
     "output_type": "stream",
     "text": [
      "            age  housing  loan  contact  duration  campaign  pdays  previous  \\\n",
      "4291  -0.290177        0     0        1 -0.780232  0.155984      1 -0.349551   \n",
      "15230  0.669465        1     0        0 -0.421577 -0.204990      1 -0.349551   \n",
      "25402  0.477537        0     0        1  1.090173 -0.565963      1 -0.349551   \n",
      "25772  0.861394        0     1        0  0.087482 -0.204990      1 -0.349551   \n",
      "5533   0.093680        0     0        1 -0.367586 -0.204990      1 -0.349551   \n",
      "\n",
      "       emp.var.rate  cons.price.idx  ...  marital_married  marital_single  \\\n",
      "4291            1.1        0.722628  ...             True           False   \n",
      "15230           1.4        0.591329  ...            False           False   \n",
      "25402          -1.8       -0.865052  ...            False            True   \n",
      "25772          -1.8       -0.865052  ...             True           False   \n",
      "5533            1.1        0.722628  ...             True           False   \n",
      "\n",
      "       poutcome_nonexistent  poutcome_success  education_basic.6y  \\\n",
      "4291                   True             False               False   \n",
      "15230                  True             False               False   \n",
      "25402                  True             False               False   \n",
      "25772                  True             False               False   \n",
      "5533                   True             False               False   \n",
      "\n",
      "       education_basic.9y  education_high.school  education_illiterate  \\\n",
      "4291                False                   True                 False   \n",
      "15230               False                   True                 False   \n",
      "25402               False                  False                 False   \n",
      "25772               False                  False                 False   \n",
      "5533                False                  False                 False   \n",
      "\n",
      "       education_professional.course  education_university.degree  \n",
      "4291                           False                        False  \n",
      "15230                          False                        False  \n",
      "25402                          False                         True  \n",
      "25772                          False                         True  \n",
      "5533                           False                        False  \n",
      "\n",
      "[5 rows x 31 columns]\n"
     ]
    }
   ],
   "source": [
    "# Calculate correlation matrix\n",
    "corr_matrix = X_train.corr()\n",
    "\n",
    "# Set a threshold for correlation (e.g., 0.8)\n",
    "threshold = 0.8\n",
    "correlated_features = set()\n",
    "\n",
    "# Loop through the matrix to find correlated features\n",
    "for i in range(len(corr_matrix.columns)):\n",
    "    for j in range(i):\n",
    "        if abs(corr_matrix.iloc[i, j]) > threshold:\n",
    "            colname = corr_matrix.columns[i]\n",
    "            correlated_features.add(colname)\n",
    "\n",
    "# Drop the correlated features\n",
    "X_train = X_train.drop(columns=correlated_features)\n",
    "X_test = X_test.drop(columns=correlated_features)\n",
    "\n",
    "print(X_train.head())  # Show the updated dataframe after dropping correlated features"
   ]
  },
  {
   "cell_type": "markdown",
   "metadata": {},
   "source": [
    "##### Step 2: Apply SMOTE (Synthetic Minority Over-sampling Technique)"
   ]
  },
  {
   "cell_type": "code",
   "execution_count": 31,
   "metadata": {},
   "outputs": [
    {
     "name": "stdout",
     "output_type": "stream",
     "text": [
      "Training set after SMOTE: Counter({0: 23429, 1: 23429})\n"
     ]
    }
   ],
   "source": [
    "# Apply SMOTE on the training data\n",
    "smote = SMOTE(sampling_strategy='auto', random_state=42)\n",
    "X_train_smote, y_train_smote = smote.fit_resample(X_train, y_train)\n",
    "\n",
    "print(f\"Training set after SMOTE: {Counter(y_train_smote)}\")"
   ]
  },
  {
   "cell_type": "markdown",
   "metadata": {},
   "source": [
    "##### Step 4: Define and Compile Neural Network Model"
   ]
  },
  {
   "cell_type": "code",
   "execution_count": 32,
   "metadata": {},
   "outputs": [
    {
     "name": "stderr",
     "output_type": "stream",
     "text": [
      "C:\\Users\\Nethma\\AppData\\Local\\Packages\\PythonSoftwareFoundation.Python.3.11_qbz5n2kfra8p0\\LocalCache\\local-packages\\Python311\\site-packages\\keras\\src\\layers\\core\\dense.py:87: UserWarning: Do not pass an `input_shape`/`input_dim` argument to a layer. When using Sequential models, prefer using an `Input(shape)` object as the first layer in the model instead.\n",
      "  super().__init__(activity_regularizer=activity_regularizer, **kwargs)\n"
     ]
    }
   ],
   "source": [
    "# Define the Neural Network\n",
    "nn_model = Sequential([\n",
    "    Dense(64, activation='tanh', input_dim=X_train_smote.shape[1]),  # Input layer\n",
    "    Dropout(0.3),  # Prevent overfitting\n",
    "    Dense(32, activation='tanh'),  # Hidden layer\n",
    "    Dropout(0.3),  # Prevent overfitting\n",
    "    Dense(1, activation='sigmoid')  # Output layer for binary classification\n",
    "])\n",
    "\n",
    "# Compile the model\n",
    "nn_model.compile(optimizer='adam', loss='binary_crossentropy', metrics=['accuracy'])"
   ]
  },
  {
   "cell_type": "markdown",
   "metadata": {},
   "source": [
    "##### Step 5: Train the Neural Network Model"
   ]
  },
  {
   "cell_type": "code",
   "execution_count": 33,
   "metadata": {},
   "outputs": [
    {
     "name": "stdout",
     "output_type": "stream",
     "text": [
      "Epoch 1/20\n",
      "\u001b[1m1465/1465\u001b[0m \u001b[32m━━━━━━━━━━━━━━━━━━━━\u001b[0m\u001b[37m\u001b[0m \u001b[1m7s\u001b[0m 3ms/step - accuracy: 0.8458 - loss: 0.3681 - val_accuracy: 0.8476 - val_loss: 0.3383\n",
      "Epoch 2/20\n",
      "\u001b[1m1465/1465\u001b[0m \u001b[32m━━━━━━━━━━━━━━━━━━━━\u001b[0m\u001b[37m\u001b[0m \u001b[1m5s\u001b[0m 3ms/step - accuracy: 0.8796 - loss: 0.3021 - val_accuracy: 0.8528 - val_loss: 0.3243\n",
      "Epoch 3/20\n",
      "\u001b[1m1465/1465\u001b[0m \u001b[32m━━━━━━━━━━━━━━━━━━━━\u001b[0m\u001b[37m\u001b[0m \u001b[1m5s\u001b[0m 3ms/step - accuracy: 0.8808 - loss: 0.2913 - val_accuracy: 0.8339 - val_loss: 0.3538\n",
      "Epoch 4/20\n",
      "\u001b[1m1465/1465\u001b[0m \u001b[32m━━━━━━━━━━━━━━━━━━━━\u001b[0m\u001b[37m\u001b[0m \u001b[1m5s\u001b[0m 3ms/step - accuracy: 0.8850 - loss: 0.2841 - val_accuracy: 0.8562 - val_loss: 0.3028\n",
      "Epoch 5/20\n",
      "\u001b[1m1465/1465\u001b[0m \u001b[32m━━━━━━━━━━━━━━━━━━━━\u001b[0m\u001b[37m\u001b[0m \u001b[1m4s\u001b[0m 3ms/step - accuracy: 0.8858 - loss: 0.2825 - val_accuracy: 0.8549 - val_loss: 0.3144\n",
      "Epoch 6/20\n",
      "\u001b[1m1465/1465\u001b[0m \u001b[32m━━━━━━━━━━━━━━━━━━━━\u001b[0m\u001b[37m\u001b[0m \u001b[1m4s\u001b[0m 3ms/step - accuracy: 0.8847 - loss: 0.2808 - val_accuracy: 0.8473 - val_loss: 0.3347\n",
      "Epoch 7/20\n",
      "\u001b[1m1465/1465\u001b[0m \u001b[32m━━━━━━━━━━━━━━━━━━━━\u001b[0m\u001b[37m\u001b[0m \u001b[1m4s\u001b[0m 3ms/step - accuracy: 0.8870 - loss: 0.2771 - val_accuracy: 0.8512 - val_loss: 0.3281\n",
      "Epoch 8/20\n",
      "\u001b[1m1465/1465\u001b[0m \u001b[32m━━━━━━━━━━━━━━━━━━━━\u001b[0m\u001b[37m\u001b[0m \u001b[1m5s\u001b[0m 3ms/step - accuracy: 0.8893 - loss: 0.2753 - val_accuracy: 0.8537 - val_loss: 0.3107\n",
      "Epoch 9/20\n",
      "\u001b[1m1465/1465\u001b[0m \u001b[32m━━━━━━━━━━━━━━━━━━━━\u001b[0m\u001b[37m\u001b[0m \u001b[1m4s\u001b[0m 3ms/step - accuracy: 0.8866 - loss: 0.2738 - val_accuracy: 0.8557 - val_loss: 0.3179\n",
      "Epoch 10/20\n",
      "\u001b[1m1465/1465\u001b[0m \u001b[32m━━━━━━━━━━━━━━━━━━━━\u001b[0m\u001b[37m\u001b[0m \u001b[1m4s\u001b[0m 3ms/step - accuracy: 0.8913 - loss: 0.2671 - val_accuracy: 0.8591 - val_loss: 0.3023\n",
      "Epoch 11/20\n",
      "\u001b[1m1465/1465\u001b[0m \u001b[32m━━━━━━━━━━━━━━━━━━━━\u001b[0m\u001b[37m\u001b[0m \u001b[1m5s\u001b[0m 3ms/step - accuracy: 0.8915 - loss: 0.2672 - val_accuracy: 0.8590 - val_loss: 0.3030\n",
      "Epoch 12/20\n",
      "\u001b[1m1465/1465\u001b[0m \u001b[32m━━━━━━━━━━━━━━━━━━━━\u001b[0m\u001b[37m\u001b[0m \u001b[1m5s\u001b[0m 3ms/step - accuracy: 0.8923 - loss: 0.2661 - val_accuracy: 0.8537 - val_loss: 0.3117\n",
      "Epoch 13/20\n",
      "\u001b[1m1465/1465\u001b[0m \u001b[32m━━━━━━━━━━━━━━━━━━━━\u001b[0m\u001b[37m\u001b[0m \u001b[1m6s\u001b[0m 4ms/step - accuracy: 0.8927 - loss: 0.2647 - val_accuracy: 0.8498 - val_loss: 0.3158\n",
      "Epoch 14/20\n",
      "\u001b[1m1465/1465\u001b[0m \u001b[32m━━━━━━━━━━━━━━━━━━━━\u001b[0m\u001b[37m\u001b[0m \u001b[1m8s\u001b[0m 2ms/step - accuracy: 0.8930 - loss: 0.2654 - val_accuracy: 0.8565 - val_loss: 0.3040\n",
      "Epoch 15/20\n",
      "\u001b[1m1465/1465\u001b[0m \u001b[32m━━━━━━━━━━━━━━━━━━━━\u001b[0m\u001b[37m\u001b[0m \u001b[1m4s\u001b[0m 3ms/step - accuracy: 0.8936 - loss: 0.2649 - val_accuracy: 0.8534 - val_loss: 0.3164\n",
      "Epoch 16/20\n",
      "\u001b[1m1465/1465\u001b[0m \u001b[32m━━━━━━━━━━━━━━━━━━━━\u001b[0m\u001b[37m\u001b[0m \u001b[1m3s\u001b[0m 2ms/step - accuracy: 0.8933 - loss: 0.2638 - val_accuracy: 0.8619 - val_loss: 0.3010\n",
      "Epoch 17/20\n",
      "\u001b[1m1465/1465\u001b[0m \u001b[32m━━━━━━━━━━━━━━━━━━━━\u001b[0m\u001b[37m\u001b[0m \u001b[1m4s\u001b[0m 3ms/step - accuracy: 0.8964 - loss: 0.2599 - val_accuracy: 0.8570 - val_loss: 0.3136\n",
      "Epoch 18/20\n",
      "\u001b[1m1465/1465\u001b[0m \u001b[32m━━━━━━━━━━━━━━━━━━━━\u001b[0m\u001b[37m\u001b[0m \u001b[1m4s\u001b[0m 3ms/step - accuracy: 0.8958 - loss: 0.2591 - val_accuracy: 0.8542 - val_loss: 0.3233\n",
      "Epoch 19/20\n",
      "\u001b[1m1465/1465\u001b[0m \u001b[32m━━━━━━━━━━━━━━━━━━━━\u001b[0m\u001b[37m\u001b[0m \u001b[1m3s\u001b[0m 2ms/step - accuracy: 0.8955 - loss: 0.2599 - val_accuracy: 0.8668 - val_loss: 0.2880\n",
      "Epoch 20/20\n",
      "\u001b[1m1465/1465\u001b[0m \u001b[32m━━━━━━━━━━━━━━━━━━━━\u001b[0m\u001b[37m\u001b[0m \u001b[1m4s\u001b[0m 3ms/step - accuracy: 0.8961 - loss: 0.2597 - val_accuracy: 0.8637 - val_loss: 0.2938\n"
     ]
    }
   ],
   "source": [
    "# Train the model\n",
    "history = nn_model.fit(X_train_smote, y_train_smote, validation_data=(X_test, y_test),\n",
    "                        epochs=20, batch_size=32, verbose=1)\n"
   ]
  },
  {
   "cell_type": "markdown",
   "metadata": {},
   "source": [
    "##### Step 6: Evaluate Model and Print Results"
   ]
  },
  {
   "cell_type": "code",
   "execution_count": 34,
   "metadata": {},
   "outputs": [
    {
     "name": "stdout",
     "output_type": "stream",
     "text": [
      "\u001b[1m201/201\u001b[0m \u001b[32m━━━━━━━━━━━━━━━━━━━━\u001b[0m\u001b[37m\u001b[0m \u001b[1m0s\u001b[0m 2ms/step\n",
      "\u001b[1m201/201\u001b[0m \u001b[32m━━━━━━━━━━━━━━━━━━━━\u001b[0m\u001b[37m\u001b[0m \u001b[1m0s\u001b[0m 2ms/step - accuracy: 0.8621 - loss: 0.2991\n",
      "Test Loss: 0.2938362658023834\n",
      "Test Accuracy: 0.8636575937271118\n",
      "Classification Report:\n",
      "              precision    recall  f1-score   support\n",
      "\n",
      "           0       0.98      0.87      0.92      5826\n",
      "           1       0.39      0.84      0.54       599\n",
      "\n",
      "    accuracy                           0.86      6425\n",
      "   macro avg       0.69      0.86      0.73      6425\n",
      "weighted avg       0.93      0.86      0.88      6425\n",
      "\n",
      "Confusion Matrix:\n",
      "[[5043  783]\n",
      " [  93  506]]\n"
     ]
    }
   ],
   "source": [
    "# Predict on the test set\n",
    "y_pred = nn_model.predict(X_test)\n",
    "y_pred = (y_pred > 0.5).astype(int)  # Convert probabilities to binary predictions\n",
    "\n",
    "# Evaluate the model on the test set\n",
    "test_loss, test_accuracy = nn_model.evaluate(X_test, y_test)\n",
    "print(f\"Test Loss: {test_loss}\")\n",
    "print(f\"Test Accuracy: {test_accuracy}\")\n",
    "\n",
    "# Classification report\n",
    "print(\"Classification Report:\")\n",
    "print(classification_report(y_test, y_pred))\n",
    "\n",
    "# Confusion matrix\n",
    "cm = confusion_matrix(y_test, y_pred)\n",
    "print(\"Confusion Matrix:\")\n",
    "print(cm)"
   ]
  },
  {
   "cell_type": "code",
   "execution_count": 35,
   "metadata": {},
   "outputs": [
    {
     "data": {
      "image/png": "[encoded data removed]",
      "text/plain": [
       "<Figure size 800x600 with 2 Axes>"
      ]
     },
     "metadata": {},
     "output_type": "display_data"
    }
   ],
   "source": [
    "# Function to plot the confusion matrix\n",
    "def plot_confusion_matrix(cm, class_names):\n",
    "    \"\"\"\n",
    "    Plots a confusion matrix using seaborn's heatmap.\n",
    "    \n",
    "    Parameters:\n",
    "    - cm: Confusion matrix (as a 2D array).\n",
    "    - class_names: List of class names.\n",
    "    \"\"\"\n",
    "    plt.figure(figsize=(8, 6))\n",
    "    sns.heatmap(cm, annot=True, fmt='d', cmap='Blues', xticklabels=class_names, yticklabels=class_names)\n",
    "    plt.title('Confusion Matrix')\n",
    "    plt.xlabel('Predicted Labels')\n",
    "    plt.ylabel('True Labels')\n",
    "    plt.show()\n",
    "\n",
    "# Plot the confusion matrix\n",
    "class_names = ['No', 'Yes']  # Adjust based on your target variable\n",
    "plot_confusion_matrix(cm, class_names)"
   ]
  },
  {
   "cell_type": "markdown",
   "metadata": {},
   "source": [
    "Random Forest"
   ]
  },
  {
   "cell_type": "code",
   "execution_count": 36,
   "metadata": {},
   "outputs": [
    {
     "name": "stdout",
     "output_type": "stream",
     "text": [
      "Classification Report:\n",
      "              precision    recall  f1-score   support\n",
      "\n",
      "           0       0.96      0.94      0.95      8777\n",
      "           1       0.50      0.58      0.54       861\n",
      "\n",
      "    accuracy                           0.91      9638\n",
      "   macro avg       0.73      0.76      0.74      9638\n",
      "weighted avg       0.92      0.91      0.91      9638\n",
      "\n",
      "Confusion Matrix:\n",
      "[[8268  509]\n",
      " [ 360  501]]\n",
      "AUC-ROC Score: 0.93\n"
     ]
    },
    {
     "data": {
      "image/png": "[encoded data removed]",
      "text/plain": [
       "<Figure size 800x600 with 2 Axes>"
      ]
     },
     "metadata": {},
     "output_type": "display_data"
    }
   ],
   "source": [
    "import pandas as pd\n",
    "import numpy as np\n",
    "from sklearn.ensemble import RandomForestClassifier\n",
    "from sklearn.model_selection import train_test_split\n",
    "from sklearn.metrics import classification_report, confusion_matrix, roc_auc_score\n",
    "from imblearn.over_sampling import SMOTE\n",
    "from imblearn.under_sampling import RandomUnderSampler\n",
    "\n",
    "# Load your dataset\n",
    "# Assume X contains features and y contains target labels\n",
    "# Example: X, y = df.drop(columns='target'), df['target']\n",
    "\n",
    "# Split the data into train and test sets\n",
    "X_train, X_test, y_train, y_test = train_test_split(X, y, test_size=0.3, random_state=42, stratify=y)\n",
    "\n",
    "# Handle data imbalance using SMOTE\n",
    "smote = SMOTE(random_state=42)\n",
    "X_train_smote, y_train_smote = smote.fit_resample(X_train, y_train)\n",
    "\n",
    "# Alternatively, use RandomUnderSampler for undersampling\n",
    "rus = RandomUnderSampler(random_state=42)\n",
    "X_train_resampled, y_train_resampled = rus.fit_resample(X_train, y_train)\n",
    "\n",
    "# Initialize the Random Forest Classifier with class weight\n",
    "rf = RandomForestClassifier(\n",
    "    n_estimators=100,         # Number of trees\n",
    "    random_state=42,          # Random seed for reproducibility\n",
    "    class_weight=\"balanced\"   # Assign weights inversely proportional to class frequencies\n",
    ")\n",
    "\n",
    "# Train the Random Forest model\n",
    "rf.fit(X_train_smote, y_train_smote)\n",
    "\n",
    "# Make predictions\n",
    "y_pred = rf.predict(X_test)\n",
    "y_pred_proba = rf.predict_proba(X_test)[:, 1]\n",
    "\n",
    "# Evaluate the model\n",
    "print(\"Classification Report:\")\n",
    "print(classification_report(y_test, y_pred))\n",
    "\n",
    "cm = confusion_matrix(y_test, y_pred)\n",
    "print(\"Confusion Matrix:\")\n",
    "print(cm)\n",
    "\n",
    "# AUC-ROC Score\n",
    "auc = roc_auc_score(y_test, y_pred_proba)\n",
    "print(f\"AUC-ROC Score: {auc:.2f}\")\n",
    "\n",
    "plot_confusion_matrix(cm, class_names)"
   ]
  }
 ],
 "metadata": {
  "kernelspec": {
   "display_name": "Python 3",
   "language": "python",
   "name": "python3"
  },
  "language_info": {
   "codemirror_mode": {
    "name": "ipython",
    "version": 3
   },
   "file_extension": ".py",
   "mimetype": "text/x-python",
   "name": "python",
   "nbconvert_exporter": "python",
   "pygments_lexer": "ipython3",
   "version": "3.11.9"
  }
 },
 "nbformat": 4,
 "nbformat_minor": 2
}
